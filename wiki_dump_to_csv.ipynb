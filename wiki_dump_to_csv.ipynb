{
 "cells": [
  {
   "cell_type": "code",
   "execution_count": 19,
   "metadata": {},
   "outputs": [],
   "source": [
    "from bs4 import BeautifulSoup\n",
    "import pandas as pd\n",
    "import os"
   ]
  },
  {
   "cell_type": "markdown",
   "metadata": {},
   "source": [
    "Extract data"
   ]
  },
  {
   "cell_type": "code",
   "execution_count": 20,
   "metadata": {},
   "outputs": [],
   "source": [
    "def wiki_to_soup(filename):\n",
    "    soup = None\n",
    "\n",
    "    with open(filename, 'r') as wiki_xml_file:\n",
    "        xml_contents = wiki_xml_file.read()\n",
    "        soup = BeautifulSoup(xml_contents, 'lxml')\n",
    "\n",
    "    return soup\n",
    "\n",
    "soup = wiki_to_soup('wiki_dump/data/AA/wiki_00')"
   ]
  },
  {
   "cell_type": "code",
   "execution_count": 21,
   "metadata": {},
   "outputs": [],
   "source": [
    "def extract_doc_data(wiki_data, doc):\n",
    "    wiki_data[\"id\"].append(doc[\"id\"])\n",
    "    wiki_data[\"title\"].append(doc[\"title\"])\n",
    "    wiki_data[\"url\"].append(doc[\"url\"])\n",
    "    wiki_data[\"document\"].append(doc.text)"
   ]
  },
  {
   "cell_type": "code",
   "execution_count": 22,
   "metadata": {},
   "outputs": [],
   "source": [
    "def extract_file_data(wiki_data, filename):\n",
    "    soup = wiki_to_soup(filename)\n",
    "    \n",
    "    for doc in soup.findAll(\"doc\"):\n",
    "        extract_doc_data(wiki_data, doc)"
   ]
  },
  {
   "cell_type": "code",
   "execution_count": 23,
   "metadata": {},
   "outputs": [],
   "source": [
    "def extract_wiki_data(data_dir):\n",
    "    wiki_data = {\"id\": [], \"title\": [], \"url\": [], \"document\": []}\n",
    "    \n",
    "    data_subdirs = os.listdir(data_dir)\n",
    "\n",
    "    for data_subdir in data_subdirs:\n",
    "        data_full_path = os.path.join(data_dir, data_subdir)\n",
    "        wiki_files = os.listdir(data_full_path)\n",
    "        \n",
    "        for wiki_file in wiki_files:\n",
    "            wiki_file_full_path = os.path.join(data_full_path, wiki_file)\n",
    "            extract_file_data(wiki_data, wiki_file_full_path)\n",
    "    \n",
    "    return pd.DataFrame(data=wiki_data)\n",
    "\n",
    "wiki_df = extract_wiki_data('wiki_dump/data')"
   ]
  },
  {
   "cell_type": "code",
   "execution_count": 17,
   "metadata": {},
   "outputs": [
    {
     "data": {
      "text/html": [
       "<div>\n",
       "<style>\n",
       "    .dataframe thead tr:only-child th {\n",
       "        text-align: right;\n",
       "    }\n",
       "\n",
       "    .dataframe thead th {\n",
       "        text-align: left;\n",
       "    }\n",
       "\n",
       "    .dataframe tbody tr th {\n",
       "        vertical-align: top;\n",
       "    }\n",
       "</style>\n",
       "<table border=\"1\" class=\"dataframe\">\n",
       "  <thead>\n",
       "    <tr style=\"text-align: right;\">\n",
       "      <th></th>\n",
       "      <th>document</th>\n",
       "      <th>id</th>\n",
       "      <th>title</th>\n",
       "      <th>url</th>\n",
       "    </tr>\n",
       "  </thead>\n",
       "  <tbody>\n",
       "    <tr>\n",
       "      <th>0</th>\n",
       "      <td>\\nAnarchism\\n\\nAnarchism is a political philos...</td>\n",
       "      <td>12</td>\n",
       "      <td>Anarchism</td>\n",
       "      <td>https://en.wikipedia.org/wiki?curid=12</td>\n",
       "    </tr>\n",
       "    <tr>\n",
       "      <th>1</th>\n",
       "      <td>\\nAutism\\n\\nAutism is a developmental disorder...</td>\n",
       "      <td>25</td>\n",
       "      <td>Autism</td>\n",
       "      <td>https://en.wikipedia.org/wiki?curid=25</td>\n",
       "    </tr>\n",
       "    <tr>\n",
       "      <th>2</th>\n",
       "      <td>\\nAlbedo\\n\\nAlbedo () (, meaning \"whiteness\") ...</td>\n",
       "      <td>39</td>\n",
       "      <td>Albedo</td>\n",
       "      <td>https://en.wikipedia.org/wiki?curid=39</td>\n",
       "    </tr>\n",
       "    <tr>\n",
       "      <th>3</th>\n",
       "      <td>\\nA\\n\\nA (named , plural \"As\", \"A's\", \"a\"s, \"a...</td>\n",
       "      <td>290</td>\n",
       "      <td>A</td>\n",
       "      <td>https://en.wikipedia.org/wiki?curid=290</td>\n",
       "    </tr>\n",
       "    <tr>\n",
       "      <th>4</th>\n",
       "      <td>\\nAlabama\\n\\nAlabama is a state in the southea...</td>\n",
       "      <td>303</td>\n",
       "      <td>Alabama</td>\n",
       "      <td>https://en.wikipedia.org/wiki?curid=303</td>\n",
       "    </tr>\n",
       "  </tbody>\n",
       "</table>\n",
       "</div>"
      ],
      "text/plain": [
       "                                            document   id      title  \\\n",
       "0  \\nAnarchism\\n\\nAnarchism is a political philos...   12  Anarchism   \n",
       "1  \\nAutism\\n\\nAutism is a developmental disorder...   25     Autism   \n",
       "2  \\nAlbedo\\n\\nAlbedo () (, meaning \"whiteness\") ...   39     Albedo   \n",
       "3  \\nA\\n\\nA (named , plural \"As\", \"A's\", \"a\"s, \"a...  290          A   \n",
       "4  \\nAlabama\\n\\nAlabama is a state in the southea...  303    Alabama   \n",
       "\n",
       "                                       url  \n",
       "0   https://en.wikipedia.org/wiki?curid=12  \n",
       "1   https://en.wikipedia.org/wiki?curid=25  \n",
       "2   https://en.wikipedia.org/wiki?curid=39  \n",
       "3  https://en.wikipedia.org/wiki?curid=290  \n",
       "4  https://en.wikipedia.org/wiki?curid=303  "
      ]
     },
     "execution_count": 17,
     "metadata": {},
     "output_type": "execute_result"
    }
   ],
   "source": [
    "wiki_df.head()"
   ]
  },
  {
   "cell_type": "code",
   "execution_count": 24,
   "metadata": {},
   "outputs": [
    {
     "data": {
      "text/plain": [
       "(15142, 4)"
      ]
     },
     "execution_count": 24,
     "metadata": {},
     "output_type": "execute_result"
    }
   ],
   "source": [
    "wiki_df.shape"
   ]
  },
  {
   "cell_type": "code",
   "execution_count": 28,
   "metadata": {},
   "outputs": [],
   "source": [
    "wiki_df.to_csv('wiki_dump/wiki_dump.csv')"
   ]
  },
  {
   "cell_type": "code",
   "execution_count": null,
   "metadata": {},
   "outputs": [],
   "source": []
  }
 ],
 "metadata": {
  "kernelspec": {
   "display_name": "Python 3",
   "language": "python",
   "name": "python3"
  },
  "language_info": {
   "codemirror_mode": {
    "name": "ipython",
    "version": 3
   },
   "file_extension": ".py",
   "mimetype": "text/x-python",
   "name": "python",
   "nbconvert_exporter": "python",
   "pygments_lexer": "ipython3",
   "version": "3.6.1"
  }
 },
 "nbformat": 4,
 "nbformat_minor": 2
}
