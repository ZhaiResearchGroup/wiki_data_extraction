{
 "cells": [
  {
   "cell_type": "code",
   "execution_count": 1,
   "metadata": {},
   "outputs": [],
   "source": [
    "import pandas as pd"
   ]
  },
  {
   "cell_type": "code",
   "execution_count": 2,
   "metadata": {},
   "outputs": [],
   "source": [
    "df = pd.read_csv('out/wiki_queries.csv')"
   ]
  },
  {
   "cell_type": "code",
   "execution_count": 3,
   "metadata": {},
   "outputs": [
    {
     "data": {
      "text/html": [
       "<div>\n",
       "<style scoped>\n",
       "    .dataframe tbody tr th:only-of-type {\n",
       "        vertical-align: middle;\n",
       "    }\n",
       "\n",
       "    .dataframe tbody tr th {\n",
       "        vertical-align: top;\n",
       "    }\n",
       "\n",
       "    .dataframe thead th {\n",
       "        text-align: right;\n",
       "    }\n",
       "</style>\n",
       "<table border=\"1\" class=\"dataframe\">\n",
       "  <thead>\n",
       "    <tr style=\"text-align: right;\">\n",
       "      <th></th>\n",
       "      <th>query_index</th>\n",
       "      <th>title</th>\n",
       "      <th>raw_query</th>\n",
       "      <th>normalized_score</th>\n",
       "      <th>sentence_summary</th>\n",
       "      <th>token_document</th>\n",
       "    </tr>\n",
       "  </thead>\n",
       "  <tbody>\n",
       "    <tr>\n",
       "      <th>0</th>\n",
       "      <td>0</td>\n",
       "      <td>James Bond.txt</td>\n",
       "      <td>[17] Between 1953 and 1966, two years after hi...</td>\n",
       "      <td>-0.268275</td>\n",
       "      <td>The James Bond series focuses on a fictional B...</td>\n",
       "      <td>&lt;SOS&gt; This article is about the spy series in ...</td>\n",
       "    </tr>\n",
       "    <tr>\n",
       "      <th>1</th>\n",
       "      <td>1</td>\n",
       "      <td>James Bond.txt</td>\n",
       "      <td>Ian Fleming created the fictional character of...</td>\n",
       "      <td>-0.212251</td>\n",
       "      <td>The James Bond series focuses on a fictional B...</td>\n",
       "      <td>&lt;SOS&gt; This article is about the spy series in ...</td>\n",
       "    </tr>\n",
       "    <tr>\n",
       "      <th>2</th>\n",
       "      <td>2</td>\n",
       "      <td>James Bond.txt</td>\n",
       "      <td>The Young Bond series of novels was started by...</td>\n",
       "      <td>-0.207803</td>\n",
       "      <td>The James Bond series focuses on a fictional B...</td>\n",
       "      <td>&lt;SOS&gt; This article is about the spy series in ...</td>\n",
       "    </tr>\n",
       "    <tr>\n",
       "      <th>3</th>\n",
       "      <td>3</td>\n",
       "      <td>James Bond.txt</td>\n",
       "      <td>[35] Although novelizations of two of the Eon ...</td>\n",
       "      <td>-0.191852</td>\n",
       "      <td>The James Bond series focuses on a fictional B...</td>\n",
       "      <td>&lt;SOS&gt; This article is about the spy series in ...</td>\n",
       "    </tr>\n",
       "    <tr>\n",
       "      <th>4</th>\n",
       "      <td>4</td>\n",
       "      <td>James Bond.txt</td>\n",
       "      <td>[165] In thanks, Fleming gave the MI6 Armourer...</td>\n",
       "      <td>-0.189127</td>\n",
       "      <td>The James Bond series focuses on a fictional B...</td>\n",
       "      <td>&lt;SOS&gt; This article is about the spy series in ...</td>\n",
       "    </tr>\n",
       "  </tbody>\n",
       "</table>\n",
       "</div>"
      ],
      "text/plain": [
       "   query_index           title  \\\n",
       "0            0  James Bond.txt   \n",
       "1            1  James Bond.txt   \n",
       "2            2  James Bond.txt   \n",
       "3            3  James Bond.txt   \n",
       "4            4  James Bond.txt   \n",
       "\n",
       "                                           raw_query  normalized_score  \\\n",
       "0  [17] Between 1953 and 1966, two years after hi...         -0.268275   \n",
       "1  Ian Fleming created the fictional character of...         -0.212251   \n",
       "2  The Young Bond series of novels was started by...         -0.207803   \n",
       "3  [35] Although novelizations of two of the Eon ...         -0.191852   \n",
       "4  [165] In thanks, Fleming gave the MI6 Armourer...         -0.189127   \n",
       "\n",
       "                                    sentence_summary  \\\n",
       "0  The James Bond series focuses on a fictional B...   \n",
       "1  The James Bond series focuses on a fictional B...   \n",
       "2  The James Bond series focuses on a fictional B...   \n",
       "3  The James Bond series focuses on a fictional B...   \n",
       "4  The James Bond series focuses on a fictional B...   \n",
       "\n",
       "                                      token_document  \n",
       "0  <SOS> This article is about the spy series in ...  \n",
       "1  <SOS> This article is about the spy series in ...  \n",
       "2  <SOS> This article is about the spy series in ...  \n",
       "3  <SOS> This article is about the spy series in ...  \n",
       "4  <SOS> This article is about the spy series in ...  "
      ]
     },
     "execution_count": 3,
     "metadata": {},
     "output_type": "execute_result"
    }
   ],
   "source": [
    "df.head()"
   ]
  },
  {
   "cell_type": "code",
   "execution_count": 4,
   "metadata": {},
   "outputs": [
    {
     "data": {
      "text/plain": [
       "(507, 6)"
      ]
     },
     "execution_count": 4,
     "metadata": {},
     "output_type": "execute_result"
    }
   ],
   "source": [
    "df.shape"
   ]
  },
  {
   "cell_type": "markdown",
   "metadata": {},
   "source": [
    "Apply first heuristic (length of query compared to summary)"
   ]
  },
  {
   "cell_type": "code",
   "execution_count": 5,
   "metadata": {},
   "outputs": [],
   "source": [
    "df = df.loc[df.raw_query.str.len() < .5 * df.sentence_summary.str.len()]"
   ]
  },
  {
   "cell_type": "markdown",
   "metadata": {},
   "source": [
    "Apply second heuristic (summary contains word in query)"
   ]
  },
  {
   "cell_type": "code",
   "execution_count": 8,
   "metadata": {},
   "outputs": [],
   "source": [
    "def contains_heuristic(raw_query, sentence_summary):\n",
    "    return sum([(word.rstrip(\".\") in sentence_summary) for word in raw_query.split()]) > 0\n",
    "\n",
    "df = df.loc[df.apply(lambda x: contains_heuristic(x['raw_query'], x['sentence_summary']), axis=1)]"
   ]
  },
  {
   "cell_type": "code",
   "execution_count": 9,
   "metadata": {},
   "outputs": [
    {
     "data": {
      "text/plain": [
       "(230, 6)"
      ]
     },
     "execution_count": 9,
     "metadata": {},
     "output_type": "execute_result"
    }
   ],
   "source": [
    "df.shape"
   ]
  },
  {
   "cell_type": "code",
   "execution_count": 11,
   "metadata": {},
   "outputs": [],
   "source": [
    "df.to_csv('out/wiki_queries_heuristic.csv')"
   ]
  },
  {
   "cell_type": "code",
   "execution_count": null,
   "metadata": {},
   "outputs": [],
   "source": []
  }
 ],
 "metadata": {
  "kernelspec": {
   "display_name": "Python 3",
   "language": "python",
   "name": "python3"
  },
  "language_info": {
   "codemirror_mode": {
    "name": "ipython",
    "version": 3
   },
   "file_extension": ".py",
   "mimetype": "text/x-python",
   "name": "python",
   "nbconvert_exporter": "python",
   "pygments_lexer": "ipython3",
   "version": "3.6.5"
  }
 },
 "nbformat": 4,
 "nbformat_minor": 2
}
