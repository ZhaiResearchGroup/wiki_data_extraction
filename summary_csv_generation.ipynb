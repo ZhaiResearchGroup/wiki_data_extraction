{
 "cells": [
  {
   "cell_type": "code",
   "execution_count": 5,
   "metadata": {},
   "outputs": [],
   "source": [
    "import pandas as pd\n",
    "import numpy as np\n",
    "\n",
    "from multiprocessing import Process"
   ]
  },
  {
   "cell_type": "code",
   "execution_count": 6,
   "metadata": {},
   "outputs": [
    {
     "data": {
      "text/html": [
       "<div>\n",
       "<style>\n",
       "    .dataframe thead tr:only-child th {\n",
       "        text-align: right;\n",
       "    }\n",
       "\n",
       "    .dataframe thead th {\n",
       "        text-align: left;\n",
       "    }\n",
       "\n",
       "    .dataframe tbody tr th {\n",
       "        vertical-align: top;\n",
       "    }\n",
       "</style>\n",
       "<table border=\"1\" class=\"dataframe\">\n",
       "  <thead>\n",
       "    <tr style=\"text-align: right;\">\n",
       "      <th></th>\n",
       "      <th>Unnamed: 0</th>\n",
       "      <th>document</th>\n",
       "      <th>id</th>\n",
       "      <th>title</th>\n",
       "      <th>url</th>\n",
       "    </tr>\n",
       "  </thead>\n",
       "  <tbody>\n",
       "    <tr>\n",
       "      <th>0</th>\n",
       "      <td>0</td>\n",
       "      <td>\\nAnarchism\\n\\nAnarchism is a political philos...</td>\n",
       "      <td>12</td>\n",
       "      <td>Anarchism</td>\n",
       "      <td>https://en.wikipedia.org/wiki?curid=12</td>\n",
       "    </tr>\n",
       "    <tr>\n",
       "      <th>1</th>\n",
       "      <td>1</td>\n",
       "      <td>\\nAutism\\n\\nAutism is a developmental disorder...</td>\n",
       "      <td>25</td>\n",
       "      <td>Autism</td>\n",
       "      <td>https://en.wikipedia.org/wiki?curid=25</td>\n",
       "    </tr>\n",
       "    <tr>\n",
       "      <th>2</th>\n",
       "      <td>2</td>\n",
       "      <td>\\nAlbedo\\n\\nAlbedo () (, meaning \"whiteness\") ...</td>\n",
       "      <td>39</td>\n",
       "      <td>Albedo</td>\n",
       "      <td>https://en.wikipedia.org/wiki?curid=39</td>\n",
       "    </tr>\n",
       "    <tr>\n",
       "      <th>3</th>\n",
       "      <td>3</td>\n",
       "      <td>\\nA\\n\\nA (named , plural \"As\", \"A's\", \"a\"s, \"a...</td>\n",
       "      <td>290</td>\n",
       "      <td>A</td>\n",
       "      <td>https://en.wikipedia.org/wiki?curid=290</td>\n",
       "    </tr>\n",
       "    <tr>\n",
       "      <th>4</th>\n",
       "      <td>4</td>\n",
       "      <td>\\nAlabama\\n\\nAlabama is a state in the southea...</td>\n",
       "      <td>303</td>\n",
       "      <td>Alabama</td>\n",
       "      <td>https://en.wikipedia.org/wiki?curid=303</td>\n",
       "    </tr>\n",
       "  </tbody>\n",
       "</table>\n",
       "</div>"
      ],
      "text/plain": [
       "   Unnamed: 0                                           document   id  \\\n",
       "0           0  \\nAnarchism\\n\\nAnarchism is a political philos...   12   \n",
       "1           1  \\nAutism\\n\\nAutism is a developmental disorder...   25   \n",
       "2           2  \\nAlbedo\\n\\nAlbedo () (, meaning \"whiteness\") ...   39   \n",
       "3           3  \\nA\\n\\nA (named , plural \"As\", \"A's\", \"a\"s, \"a...  290   \n",
       "4           4  \\nAlabama\\n\\nAlabama is a state in the southea...  303   \n",
       "\n",
       "       title                                      url  \n",
       "0  Anarchism   https://en.wikipedia.org/wiki?curid=12  \n",
       "1     Autism   https://en.wikipedia.org/wiki?curid=25  \n",
       "2     Albedo   https://en.wikipedia.org/wiki?curid=39  \n",
       "3          A  https://en.wikipedia.org/wiki?curid=290  \n",
       "4    Alabama  https://en.wikipedia.org/wiki?curid=303  "
      ]
     },
     "execution_count": 6,
     "metadata": {},
     "output_type": "execute_result"
    }
   ],
   "source": [
    "df = pd.read_csv('wiki_dump/wiki_dump.csv')\n",
    "df.head()"
   ]
  },
  {
   "cell_type": "code",
   "execution_count": 7,
   "metadata": {},
   "outputs": [
    {
     "data": {
      "text/plain": [
       "0                                            Anarchism\n",
       "1    Anarchism is a political philosophy that advoc...\n",
       "2    While opposition to the state is central, anar...\n",
       "dtype: object"
      ]
     },
     "execution_count": 7,
     "metadata": {},
     "output_type": "execute_result"
    }
   ],
   "source": [
    "def extract_summary_data(document, title):\n",
    "    sentences = document.split(\"\\n\")\n",
    "    sentences = list(filter(None, sentences))\n",
    "    \n",
    "    if len(sentences) < 2 or sentences[0] == np.nan:\n",
    "        return pd.Series([np.NaN, np.NaN, np.NaN])\n",
    "\n",
    "    if sentences[0] == title:\n",
    "        sentences = sentences[1:]\n",
    "    else:\n",
    "        print('err', sentences[0], df['title'][0])\n",
    "\n",
    "    summary = sentences[0]\n",
    "    new_document = \"\\n\".join(sentences[1:])\n",
    "    \n",
    "    if len(new_document) == 0:\n",
    "        return pd.Series([np.NaN, np.NaN, np.NaN])\n",
    "\n",
    "    return pd.Series([title, summary, new_document])\n",
    "\n",
    "extract_summary_data(df['document'][0], df['title'][0])"
   ]
  },
  {
   "cell_type": "code",
   "execution_count": 21,
   "metadata": {},
   "outputs": [
    {
     "name": "stdout",
     "output_type": "stream",
     "text": [
      "finished summaries csv 1 containing 1724 documents\n",
      "finished summaries csv 2 containing 1764 documents\n",
      "finished summaries csv 3 containing 1719 documents\n",
      "finished summaries csv 4 containing 1782 documents\n",
      "finished summaries csv 5 containing 1699 documents\n",
      "finished summaries csv 6 containing 1677 documents\n",
      "finished summaries csv 7 containing 1779 documents\n",
      "finished summaries csv 8 containing 1744 documents\n"
     ]
    }
   ],
   "source": [
    "def create_summaries_csv(p_df, index):\n",
    "    summaries_df = p_df.apply(lambda x: extract_summary_data(x['document'], x['title']), axis=1)\n",
    "    summaries_df.columns = ['title', 'summary', 'document']\n",
    "    \n",
    "    summaries_df.dropna(inplace=True)\n",
    "\n",
    "    print(\"finished summaries csv {} containing {} documents\".format(index, summaries_df.shape[0]))\n",
    "\n",
    "    summaries_df.to_csv('data/wiki_summaries_{}.csv'.format(index))\n",
    "\n",
    "def create_summaries_batched(num_batches=8):\n",
    "    chunk_size = df.shape[0] // num_batches\n",
    "    extra = df.shape[0] - (chunk_size * num_batches)\n",
    "    \n",
    "    rows_covered = 0\n",
    "    for i in range(num_batches):\n",
    "        start = rows_covered\n",
    "        length = chunk_size + int(i < extra)\n",
    "        \n",
    "        rows_covered += length\n",
    "\n",
    "        end = start + length\n",
    "        \n",
    "        p_df = df[start:end]\n",
    "        index = i + 1\n",
    "        \n",
    "        create_summaries_csv(p_df, index)\n",
    "\n",
    "create_summaries_batched()"
   ]
  },
  {
   "cell_type": "code",
   "execution_count": null,
   "metadata": {},
   "outputs": [],
   "source": []
  }
 ],
 "metadata": {
  "kernelspec": {
   "display_name": "Python 3",
   "language": "python",
   "name": "python3"
  },
  "language_info": {
   "codemirror_mode": {
    "name": "ipython",
    "version": 3
   },
   "file_extension": ".py",
   "mimetype": "text/x-python",
   "name": "python",
   "nbconvert_exporter": "python",
   "pygments_lexer": "ipython3",
   "version": "3.6.1"
  }
 },
 "nbformat": 4,
 "nbformat_minor": 2
}
