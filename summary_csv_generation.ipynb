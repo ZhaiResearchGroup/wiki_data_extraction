{
 "cells": [
  {
   "cell_type": "code",
   "execution_count": 61,
   "metadata": {},
   "outputs": [],
   "source": [
    "import pandas as pd"
   ]
  },
  {
   "cell_type": "code",
   "execution_count": 62,
   "metadata": {},
   "outputs": [
    {
     "data": {
      "text/html": [
       "<div>\n",
       "<style>\n",
       "    .dataframe thead tr:only-child th {\n",
       "        text-align: right;\n",
       "    }\n",
       "\n",
       "    .dataframe thead th {\n",
       "        text-align: left;\n",
       "    }\n",
       "\n",
       "    .dataframe tbody tr th {\n",
       "        vertical-align: top;\n",
       "    }\n",
       "</style>\n",
       "<table border=\"1\" class=\"dataframe\">\n",
       "  <thead>\n",
       "    <tr style=\"text-align: right;\">\n",
       "      <th></th>\n",
       "      <th>Unnamed: 0</th>\n",
       "      <th>document</th>\n",
       "      <th>id</th>\n",
       "      <th>title</th>\n",
       "      <th>url</th>\n",
       "    </tr>\n",
       "  </thead>\n",
       "  <tbody>\n",
       "    <tr>\n",
       "      <th>0</th>\n",
       "      <td>0</td>\n",
       "      <td>\\nAnarchism\\n\\nAnarchism is a political philos...</td>\n",
       "      <td>12</td>\n",
       "      <td>Anarchism</td>\n",
       "      <td>https://en.wikipedia.org/wiki?curid=12</td>\n",
       "    </tr>\n",
       "    <tr>\n",
       "      <th>1</th>\n",
       "      <td>1</td>\n",
       "      <td>\\nAutism\\n\\nAutism is a developmental disorder...</td>\n",
       "      <td>25</td>\n",
       "      <td>Autism</td>\n",
       "      <td>https://en.wikipedia.org/wiki?curid=25</td>\n",
       "    </tr>\n",
       "    <tr>\n",
       "      <th>2</th>\n",
       "      <td>2</td>\n",
       "      <td>\\nAlbedo\\n\\nAlbedo () (, meaning \"whiteness\") ...</td>\n",
       "      <td>39</td>\n",
       "      <td>Albedo</td>\n",
       "      <td>https://en.wikipedia.org/wiki?curid=39</td>\n",
       "    </tr>\n",
       "    <tr>\n",
       "      <th>3</th>\n",
       "      <td>3</td>\n",
       "      <td>\\nA\\n\\nA (named , plural \"As\", \"A's\", \"a\"s, \"a...</td>\n",
       "      <td>290</td>\n",
       "      <td>A</td>\n",
       "      <td>https://en.wikipedia.org/wiki?curid=290</td>\n",
       "    </tr>\n",
       "    <tr>\n",
       "      <th>4</th>\n",
       "      <td>4</td>\n",
       "      <td>\\nAlabama\\n\\nAlabama is a state in the southea...</td>\n",
       "      <td>303</td>\n",
       "      <td>Alabama</td>\n",
       "      <td>https://en.wikipedia.org/wiki?curid=303</td>\n",
       "    </tr>\n",
       "  </tbody>\n",
       "</table>\n",
       "</div>"
      ],
      "text/plain": [
       "   Unnamed: 0                                           document   id  \\\n",
       "0           0  \\nAnarchism\\n\\nAnarchism is a political philos...   12   \n",
       "1           1  \\nAutism\\n\\nAutism is a developmental disorder...   25   \n",
       "2           2  \\nAlbedo\\n\\nAlbedo () (, meaning \"whiteness\") ...   39   \n",
       "3           3  \\nA\\n\\nA (named , plural \"As\", \"A's\", \"a\"s, \"a...  290   \n",
       "4           4  \\nAlabama\\n\\nAlabama is a state in the southea...  303   \n",
       "\n",
       "       title                                      url  \n",
       "0  Anarchism   https://en.wikipedia.org/wiki?curid=12  \n",
       "1     Autism   https://en.wikipedia.org/wiki?curid=25  \n",
       "2     Albedo   https://en.wikipedia.org/wiki?curid=39  \n",
       "3          A  https://en.wikipedia.org/wiki?curid=290  \n",
       "4    Alabama  https://en.wikipedia.org/wiki?curid=303  "
      ]
     },
     "execution_count": 62,
     "metadata": {},
     "output_type": "execute_result"
    }
   ],
   "source": [
    "df = pd.read_csv('wiki_dump/wiki_dump.csv')\n",
    "df.head()"
   ]
  },
  {
   "cell_type": "code",
   "execution_count": 63,
   "metadata": {},
   "outputs": [
    {
     "data": {
      "text/plain": [
       "0                                            Anarchism\n",
       "1    Anarchism is a political philosophy that advoc...\n",
       "2    While opposition to the state is central, anar...\n",
       "dtype: object"
      ]
     },
     "execution_count": 63,
     "metadata": {},
     "output_type": "execute_result"
    }
   ],
   "source": [
    "def extract_summary_data(document, title):\n",
    "    sentences = document.split(\"\\n\")\n",
    "    sentences = list(filter(None, sentences))\n",
    "\n",
    "    if sentences[0] == title:\n",
    "        sentences = sentences[1:]\n",
    "    else:\n",
    "        print('err', sentences[0], df['title'][0])\n",
    "\n",
    "    summary = sentences[0]\n",
    "    new_document = \"\\n\".join(sentences[1:])\n",
    "\n",
    "    return pd.Series([title, summary, new_document])\n",
    "\n",
    "extract_summary_data(df['document'][0], df['title'][0])"
   ]
  },
  {
   "cell_type": "code",
   "execution_count": 64,
   "metadata": {},
   "outputs": [
    {
     "data": {
      "text/html": [
       "<div>\n",
       "<style>\n",
       "    .dataframe thead tr:only-child th {\n",
       "        text-align: right;\n",
       "    }\n",
       "\n",
       "    .dataframe thead th {\n",
       "        text-align: left;\n",
       "    }\n",
       "\n",
       "    .dataframe tbody tr th {\n",
       "        vertical-align: top;\n",
       "    }\n",
       "</style>\n",
       "<table border=\"1\" class=\"dataframe\">\n",
       "  <thead>\n",
       "    <tr style=\"text-align: right;\">\n",
       "      <th></th>\n",
       "      <th>title</th>\n",
       "      <th>summary</th>\n",
       "      <th>document</th>\n",
       "    </tr>\n",
       "  </thead>\n",
       "  <tbody>\n",
       "    <tr>\n",
       "      <th>0</th>\n",
       "      <td>Anarchism</td>\n",
       "      <td>Anarchism is a political philosophy that advoc...</td>\n",
       "      <td>While opposition to the state is central, anar...</td>\n",
       "    </tr>\n",
       "    <tr>\n",
       "      <th>1</th>\n",
       "      <td>Autism</td>\n",
       "      <td>Autism is a developmental disorder characteriz...</td>\n",
       "      <td>Autism is caused by a combination of genetic a...</td>\n",
       "    </tr>\n",
       "    <tr>\n",
       "      <th>2</th>\n",
       "      <td>Albedo</td>\n",
       "      <td>Albedo () (, meaning \"whiteness\") is the measu...</td>\n",
       "      <td>Surface albedo is defined as the ratio of irra...</td>\n",
       "    </tr>\n",
       "    <tr>\n",
       "      <th>3</th>\n",
       "      <td>A</td>\n",
       "      <td>A (named , plural \"As\", \"A's\", \"a\"s, \"a's\" or ...</td>\n",
       "      <td>The earliest certain ancestor of \"A\" is aleph ...</td>\n",
       "    </tr>\n",
       "    <tr>\n",
       "      <th>4</th>\n",
       "      <td>Alabama</td>\n",
       "      <td>Alabama is a state in the southeastern region ...</td>\n",
       "      <td>Alabama is nicknamed the \"Yellowhammer State\",...</td>\n",
       "    </tr>\n",
       "  </tbody>\n",
       "</table>\n",
       "</div>"
      ],
      "text/plain": [
       "       title                                            summary  \\\n",
       "0  Anarchism  Anarchism is a political philosophy that advoc...   \n",
       "1     Autism  Autism is a developmental disorder characteriz...   \n",
       "2     Albedo  Albedo () (, meaning \"whiteness\") is the measu...   \n",
       "3          A  A (named , plural \"As\", \"A's\", \"a\"s, \"a's\" or ...   \n",
       "4    Alabama  Alabama is a state in the southeastern region ...   \n",
       "\n",
       "                                            document  \n",
       "0  While opposition to the state is central, anar...  \n",
       "1  Autism is caused by a combination of genetic a...  \n",
       "2  Surface albedo is defined as the ratio of irra...  \n",
       "3  The earliest certain ancestor of \"A\" is aleph ...  \n",
       "4  Alabama is nicknamed the \"Yellowhammer State\",...  "
      ]
     },
     "execution_count": 64,
     "metadata": {},
     "output_type": "execute_result"
    }
   ],
   "source": [
    "summaries_df = df.apply(lambda x: extract_summary_data(x['document'], x['title']), axis=1)\n",
    "summaries_df.columns = ['title', 'summary', 'document']\n",
    "summaries_df.head()"
   ]
  },
  {
   "cell_type": "code",
   "execution_count": 66,
   "metadata": {},
   "outputs": [],
   "source": [
    "summaries_df.to_csv('data/wiki_summaries.csv')"
   ]
  },
  {
   "cell_type": "code",
   "execution_count": null,
   "metadata": {},
   "outputs": [],
   "source": []
  }
 ],
 "metadata": {
  "kernelspec": {
   "display_name": "Python 3",
   "language": "python",
   "name": "python3"
  },
  "language_info": {
   "codemirror_mode": {
    "name": "ipython",
    "version": 3
   },
   "file_extension": ".py",
   "mimetype": "text/x-python",
   "name": "python",
   "nbconvert_exporter": "python",
   "pygments_lexer": "ipython3",
   "version": "3.6.1"
  }
 },
 "nbformat": 4,
 "nbformat_minor": 2
}
