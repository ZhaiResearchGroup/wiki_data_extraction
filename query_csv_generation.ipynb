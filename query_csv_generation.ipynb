{
 "cells": [
  {
   "cell_type": "code",
   "execution_count": 1,
   "metadata": {},
   "outputs": [],
   "source": [
    "from subprocess import call\n",
    "import pandas as pd\n",
    "import numpy as np\n",
    "import scipy as sp\n",
    "import pickle\n",
    "import itertools\n",
    "\n",
    "import metapy\n",
    "from sklearn.feature_extraction.text import TfidfVectorizer"
   ]
  },
  {
   "cell_type": "markdown",
   "metadata": {},
   "source": [
    "Read in our original data"
   ]
  },
  {
   "cell_type": "code",
   "execution_count": 2,
   "metadata": {},
   "outputs": [
    {
     "data": {
      "text/html": [
       "<div>\n",
       "<style>\n",
       "    .dataframe thead tr:only-child th {\n",
       "        text-align: right;\n",
       "    }\n",
       "\n",
       "    .dataframe thead th {\n",
       "        text-align: left;\n",
       "    }\n",
       "\n",
       "    .dataframe tbody tr th {\n",
       "        vertical-align: top;\n",
       "    }\n",
       "</style>\n",
       "<table border=\"1\" class=\"dataframe\">\n",
       "  <thead>\n",
       "    <tr style=\"text-align: right;\">\n",
       "      <th></th>\n",
       "      <th>Unnamed: 0</th>\n",
       "      <th>title</th>\n",
       "      <th>summary</th>\n",
       "      <th>document</th>\n",
       "    </tr>\n",
       "  </thead>\n",
       "  <tbody>\n",
       "    <tr>\n",
       "      <th>0</th>\n",
       "      <td>0</td>\n",
       "      <td>Anarchism</td>\n",
       "      <td>Anarchism is a political philosophy that advoc...</td>\n",
       "      <td>While opposition to the state is central, anar...</td>\n",
       "    </tr>\n",
       "    <tr>\n",
       "      <th>1</th>\n",
       "      <td>1</td>\n",
       "      <td>Autism</td>\n",
       "      <td>Autism is a developmental disorder characteriz...</td>\n",
       "      <td>Autism is caused by a combination of genetic a...</td>\n",
       "    </tr>\n",
       "    <tr>\n",
       "      <th>2</th>\n",
       "      <td>2</td>\n",
       "      <td>Albedo</td>\n",
       "      <td>Albedo () (, meaning \"whiteness\") is the measu...</td>\n",
       "      <td>Surface albedo is defined as the ratio of irra...</td>\n",
       "    </tr>\n",
       "    <tr>\n",
       "      <th>3</th>\n",
       "      <td>3</td>\n",
       "      <td>A</td>\n",
       "      <td>A (named , plural \"As\", \"A's\", \"a\"s, \"a's\" or ...</td>\n",
       "      <td>The earliest certain ancestor of \"A\" is aleph ...</td>\n",
       "    </tr>\n",
       "    <tr>\n",
       "      <th>4</th>\n",
       "      <td>4</td>\n",
       "      <td>Alabama</td>\n",
       "      <td>Alabama is a state in the southeastern region ...</td>\n",
       "      <td>Alabama is nicknamed the \"Yellowhammer State\",...</td>\n",
       "    </tr>\n",
       "  </tbody>\n",
       "</table>\n",
       "</div>"
      ],
      "text/plain": [
       "   Unnamed: 0      title                                            summary  \\\n",
       "0           0  Anarchism  Anarchism is a political philosophy that advoc...   \n",
       "1           1     Autism  Autism is a developmental disorder characteriz...   \n",
       "2           2     Albedo  Albedo () (, meaning \"whiteness\") is the measu...   \n",
       "3           3          A  A (named , plural \"As\", \"A's\", \"a\"s, \"a's\" or ...   \n",
       "4           4    Alabama  Alabama is a state in the southeastern region ...   \n",
       "\n",
       "                                            document  \n",
       "0  While opposition to the state is central, anar...  \n",
       "1  Autism is caused by a combination of genetic a...  \n",
       "2  Surface albedo is defined as the ratio of irra...  \n",
       "3  The earliest certain ancestor of \"A\" is aleph ...  \n",
       "4  Alabama is nicknamed the \"Yellowhammer State\",...  "
      ]
     },
     "execution_count": 2,
     "metadata": {},
     "output_type": "execute_result"
    }
   ],
   "source": [
    "df = pd.read_csv(\"data/wiki_summaries.csv\")\n",
    "df.head()"
   ]
  },
  {
   "cell_type": "code",
   "execution_count": 3,
   "metadata": {},
   "outputs": [
    {
     "data": {
      "text/plain": [
       "(9102, 4)"
      ]
     },
     "execution_count": 3,
     "metadata": {},
     "output_type": "execute_result"
    }
   ],
   "source": [
    "df.shape"
   ]
  },
  {
   "cell_type": "markdown",
   "metadata": {},
   "source": [
    "Train our Vectorizer to fit the corpus"
   ]
  },
  {
   "cell_type": "code",
   "execution_count": 4,
   "metadata": {},
   "outputs": [
    {
     "data": {
      "text/plain": [
       "<9102x17845 sparse matrix of type '<class 'numpy.float64'>'\n",
       "\twith 10934208 stored elements in Compressed Sparse Row format>"
      ]
     },
     "execution_count": 4,
     "metadata": {},
     "output_type": "execute_result"
    }
   ],
   "source": [
    "corpus = df['document'].tolist()\n",
    "\n",
    "vectorizer = TfidfVectorizer()\n",
    "vectorizer.fit_transform(corpus)"
   ]
  },
  {
   "cell_type": "code",
   "execution_count": 5,
   "metadata": {},
   "outputs": [],
   "source": [
    "# transform our raw queries using tf idf\n",
    "def transform_query(raw_query):\n",
    "    combined_query = \". \".join(raw_query) + \".\"\n",
    "    sparse_query = vectorizer.transform([combined_query])\n",
    "    return sparse_query"
   ]
  },
  {
   "cell_type": "markdown",
   "metadata": {},
   "source": [
    "Extract the queries using MeTaPy"
   ]
  },
  {
   "cell_type": "code",
   "execution_count": 6,
   "metadata": {},
   "outputs": [],
   "source": [
    "def write_doc(document, filename):\n",
    "    sentences = [[sentence.strip() for sentence in paragraph.split(\".\")] for paragraph in document.split(\"\\n\")]\n",
    "    \n",
    "    # flatten list\n",
    "    sentences = list(itertools.chain.from_iterable(sentences))\n",
    "    \n",
    "    # get rid of empty strings: https://stackoverflow.com/questions/3845423/remove-empty-strings-from-a-list-of-strings\n",
    "    sentences = list(filter(None, sentences))\n",
    "\n",
    "    # write document to file\n",
    "    with open(filename, 'w+') as doc_file:\n",
    "        for sentence in sentences:\n",
    "            doc_file.write(\"{}\\n\".format(sentence))\n",
    "    \n",
    "    # write metadata\n",
    "    with open('wiki/metadata.dat', 'w+') as meta_file:\n",
    "        for i in range(len(sentences)):\n",
    "            meta_file.write(\"SEN{}\\n\".format(i))\n",
    "\n",
    "def remove_old_idx():\n",
    "    call([\"rm\", \"-r\", \"idx\"])\n",
    "    \n",
    "def get_stringified_list(idx, search_results):\n",
    "    return [idx.metadata(doc_id).get('content') for (doc_id, score) in search_results]\n",
    "\n",
    "def search(document, summary):\n",
    "    write_doc(document, 'wiki/wiki.dat')\n",
    "    remove_old_idx()\n",
    "    \n",
    "    idx = metapy.index.make_inverted_index('config.toml')\n",
    "    \n",
    "    ranker = metapy.index.OkapiBM25()\n",
    "    \n",
    "    query = metapy.index.Document()\n",
    "    query.content(summary)\n",
    "    \n",
    "    search_results = ranker.score(idx, query, num_results=5)\n",
    "    return get_stringified_list(idx, search_results)\n",
    "\n",
    "# document = df_docs.loc[df_docs['Titles'] == 'James Bond.txt', 'Documents'].iloc[0]\n",
    "# summary = df_summs.loc[df_summs['Titles'] == 'James Bond.txt', 'Summaries'].iloc[0]\n",
    "\n",
    "# print(summary)\n",
    "# search(document, summary)"
   ]
  },
  {
   "cell_type": "markdown",
   "metadata": {},
   "source": [
    "Generate raw and transform queries"
   ]
  },
  {
   "cell_type": "code",
   "execution_count": 7,
   "metadata": {},
   "outputs": [
    {
     "name": "stdout",
     "output_type": "stream",
     "text": [
      "Generated 400 queries, 4.3946% complete\n",
      "Generated 800 queries, 8.7893% complete\n",
      "Generated 1200 queries, 13.1839% complete\n",
      "Generated 1600 queries, 17.5786% complete\n",
      "Generated 2000 queries, 21.9732% complete\n",
      "Generated 2400 queries, 26.3678% complete\n",
      "Generated 2800 queries, 30.7625% complete\n",
      "Generated 3200 queries, 35.1571% complete\n",
      "Generated 3600 queries, 39.5517% complete\n",
      "Generated 4000 queries, 43.9464% complete\n",
      "Generated 4400 queries, 48.3410% complete\n",
      "Generated 4800 queries, 52.7357% complete\n",
      "Generated 5200 queries, 57.1303% complete\n",
      "Generated 5600 queries, 61.5249% complete\n",
      "Generated 6000 queries, 65.9196% complete\n",
      "Generated 6400 queries, 70.3142% complete\n",
      "Generated 6800 queries, 74.7089% complete\n",
      "Generated 7200 queries, 79.1035% complete\n",
      "Generated 7600 queries, 83.4981% complete\n",
      "Generated 8000 queries, 87.8928% complete\n",
      "Generated 8400 queries, 92.2874% complete\n",
      "Generated 8800 queries, 96.6820% complete\n",
      "Finished generating queries\n",
      "(9102, 17845)\n"
     ]
    },
    {
     "data": {
      "text/html": [
       "<div>\n",
       "<style>\n",
       "    .dataframe thead tr:only-child th {\n",
       "        text-align: right;\n",
       "    }\n",
       "\n",
       "    .dataframe thead th {\n",
       "        text-align: left;\n",
       "    }\n",
       "\n",
       "    .dataframe tbody tr th {\n",
       "        vertical-align: top;\n",
       "    }\n",
       "</style>\n",
       "<table border=\"1\" class=\"dataframe\">\n",
       "  <thead>\n",
       "    <tr style=\"text-align: right;\">\n",
       "      <th></th>\n",
       "      <th>query_index</th>\n",
       "      <th>raw_query</th>\n",
       "    </tr>\n",
       "  </thead>\n",
       "  <tbody>\n",
       "    <tr>\n",
       "      <th>0</th>\n",
       "      <td>0</td>\n",
       "      <td>[It is critical of formal organisations such a...</td>\n",
       "    </tr>\n",
       "    <tr>\n",
       "      <th>1</th>\n",
       "      <td>1</td>\n",
       "      <td>[Autism is one of the five pervasive developme...</td>\n",
       "    </tr>\n",
       "    <tr>\n",
       "      <th>2</th>\n",
       "      <td>2</td>\n",
       "      <td>[Unless given for a specific wavelength (spect...</td>\n",
       "    </tr>\n",
       "    <tr>\n",
       "      <th>3</th>\n",
       "      <td>3</td>\n",
       "      <td>[There are some other cases aside from italic ...</td>\n",
       "    </tr>\n",
       "    <tr>\n",
       "      <th>4</th>\n",
       "      <td>4</td>\n",
       "      <td>[Alabama is bordered by the states of Tennesse...</td>\n",
       "    </tr>\n",
       "  </tbody>\n",
       "</table>\n",
       "</div>"
      ],
      "text/plain": [
       "   query_index                                          raw_query\n",
       "0            0  [It is critical of formal organisations such a...\n",
       "1            1  [Autism is one of the five pervasive developme...\n",
       "2            2  [Unless given for a specific wavelength (spect...\n",
       "3            3  [There are some other cases aside from italic ...\n",
       "4            4  [Alabama is bordered by the states of Tennesse..."
      ]
     },
     "execution_count": 7,
     "metadata": {},
     "output_type": "execute_result"
    }
   ],
   "source": [
    "def generate_queries():\n",
    "    data = {\"raw_query\": [], \"query_index\": []}\n",
    "    \n",
    "    queries = []\n",
    "\n",
    "    queries_generated = 0\n",
    "    total_queries = df.shape[0]\n",
    "\n",
    "    for row in df.iterrows():\n",
    "        summary = row[1]['summary']\n",
    "        document = row[1]['document']\n",
    "\n",
    "        # extract query\n",
    "        raw_query = search(document, summary)\n",
    "        query = transform_query(raw_query)\n",
    "        \n",
    "        # add query info to data\n",
    "        data[\"raw_query\"].append(raw_query)\n",
    "        data[\"query_index\"].append(queries_generated)\n",
    "        queries.append(query)\n",
    "        \n",
    "        queries_generated += 1\n",
    "        \n",
    "        if queries_generated % 400 == 0:\n",
    "            print(\"Generated {} queries, {:.4f}% complete\".format(queries_generated, queries_generated/total_queries * 100))\n",
    "    \n",
    "    print(\"Finished generating queries\")\n",
    "\n",
    "    return pd.DataFrame(data=data), sp.sparse.vstack(queries)\n",
    "\n",
    "df_queries, queries = generate_queries()\n",
    "\n",
    "print(queries.shape)\n",
    "df_queries.head()"
   ]
  },
  {
   "cell_type": "markdown",
   "metadata": {},
   "source": [
    "Merge all the dataframes together"
   ]
  },
  {
   "cell_type": "code",
   "execution_count": 9,
   "metadata": {},
   "outputs": [
    {
     "data": {
      "text/html": [
       "<div>\n",
       "<style>\n",
       "    .dataframe thead tr:only-child th {\n",
       "        text-align: right;\n",
       "    }\n",
       "\n",
       "    .dataframe thead th {\n",
       "        text-align: left;\n",
       "    }\n",
       "\n",
       "    .dataframe tbody tr th {\n",
       "        vertical-align: top;\n",
       "    }\n",
       "</style>\n",
       "<table border=\"1\" class=\"dataframe\">\n",
       "  <thead>\n",
       "    <tr style=\"text-align: right;\">\n",
       "      <th></th>\n",
       "      <th>title</th>\n",
       "      <th>raw_query</th>\n",
       "      <th>summary</th>\n",
       "      <th>document</th>\n",
       "    </tr>\n",
       "    <tr>\n",
       "      <th>query_index</th>\n",
       "      <th></th>\n",
       "      <th></th>\n",
       "      <th></th>\n",
       "      <th></th>\n",
       "    </tr>\n",
       "  </thead>\n",
       "  <tbody>\n",
       "    <tr>\n",
       "      <th>0</th>\n",
       "      <td>Anarchism</td>\n",
       "      <td>[It is critical of formal organisations such a...</td>\n",
       "      <td>Anarchism is a political philosophy that advoc...</td>\n",
       "      <td>While opposition to the state is central, anar...</td>\n",
       "    </tr>\n",
       "    <tr>\n",
       "      <th>1</th>\n",
       "      <td>Autism</td>\n",
       "      <td>[Autism is one of the five pervasive developme...</td>\n",
       "      <td>Autism is a developmental disorder characteriz...</td>\n",
       "      <td>Autism is caused by a combination of genetic a...</td>\n",
       "    </tr>\n",
       "    <tr>\n",
       "      <th>2</th>\n",
       "      <td>Albedo</td>\n",
       "      <td>[Unless given for a specific wavelength (spect...</td>\n",
       "      <td>Albedo () (, meaning \"whiteness\") is the measu...</td>\n",
       "      <td>Surface albedo is defined as the ratio of irra...</td>\n",
       "    </tr>\n",
       "    <tr>\n",
       "      <th>3</th>\n",
       "      <td>A</td>\n",
       "      <td>[There are some other cases aside from italic ...</td>\n",
       "      <td>A (named , plural \"As\", \"A's\", \"a\"s, \"a's\" or ...</td>\n",
       "      <td>The earliest certain ancestor of \"A\" is aleph ...</td>\n",
       "    </tr>\n",
       "    <tr>\n",
       "      <th>4</th>\n",
       "      <td>Alabama</td>\n",
       "      <td>[Alabama is bordered by the states of Tennesse...</td>\n",
       "      <td>Alabama is a state in the southeastern region ...</td>\n",
       "      <td>Alabama is nicknamed the \"Yellowhammer State\",...</td>\n",
       "    </tr>\n",
       "  </tbody>\n",
       "</table>\n",
       "</div>"
      ],
      "text/plain": [
       "                 title                                          raw_query  \\\n",
       "query_index                                                                 \n",
       "0            Anarchism  [It is critical of formal organisations such a...   \n",
       "1               Autism  [Autism is one of the five pervasive developme...   \n",
       "2               Albedo  [Unless given for a specific wavelength (spect...   \n",
       "3                    A  [There are some other cases aside from italic ...   \n",
       "4              Alabama  [Alabama is bordered by the states of Tennesse...   \n",
       "\n",
       "                                                       summary  \\\n",
       "query_index                                                      \n",
       "0            Anarchism is a political philosophy that advoc...   \n",
       "1            Autism is a developmental disorder characteriz...   \n",
       "2            Albedo () (, meaning \"whiteness\") is the measu...   \n",
       "3            A (named , plural \"As\", \"A's\", \"a\"s, \"a's\" or ...   \n",
       "4            Alabama is a state in the southeastern region ...   \n",
       "\n",
       "                                                      document  \n",
       "query_index                                                     \n",
       "0            While opposition to the state is central, anar...  \n",
       "1            Autism is caused by a combination of genetic a...  \n",
       "2            Surface albedo is defined as the ratio of irra...  \n",
       "3            The earliest certain ancestor of \"A\" is aleph ...  \n",
       "4            Alabama is nicknamed the \"Yellowhammer State\",...  "
      ]
     },
     "execution_count": 9,
     "metadata": {},
     "output_type": "execute_result"
    }
   ],
   "source": [
    "df_final = pd.concat([df, df_queries], axis=1)\n",
    "\n",
    "# reorganize dataframe\n",
    "df_final = df_final[['title', 'query_index', 'raw_query', 'summary', 'document']]\n",
    "df_final = df_final.set_index(\"query_index\")\n",
    "df_final.index = df_final.index.astype(int)\n",
    "\n",
    "df_final.head()"
   ]
  },
  {
   "cell_type": "markdown",
   "metadata": {},
   "source": [
    "Store all the data"
   ]
  },
  {
   "cell_type": "code",
   "execution_count": 10,
   "metadata": {},
   "outputs": [],
   "source": [
    "# store vectorizer\n",
    "pickle_out = open(\"out/vectorizer.pickle\",\"wb\")\n",
    "pickle.dump(vectorizer, pickle_out)\n",
    "pickle_out.close()\n",
    "\n",
    "# store queries matrix\n",
    "sp.sparse.save_npz(\"out/queries_matrix.npz\", queries)\n",
    "\n",
    "# store queries csv\n",
    "df_final.to_csv(\"out/wiki_queries.csv\")"
   ]
  },
  {
   "cell_type": "code",
   "execution_count": null,
   "metadata": {},
   "outputs": [],
   "source": []
  }
 ],
 "metadata": {
  "kernelspec": {
   "display_name": "Python 3",
   "language": "python",
   "name": "python3"
  },
  "language_info": {
   "codemirror_mode": {
    "name": "ipython",
    "version": 3
   },
   "file_extension": ".py",
   "mimetype": "text/x-python",
   "name": "python",
   "nbconvert_exporter": "python",
   "pygments_lexer": "ipython3",
   "version": "3.6.1"
  }
 },
 "nbformat": 4,
 "nbformat_minor": 2
}
